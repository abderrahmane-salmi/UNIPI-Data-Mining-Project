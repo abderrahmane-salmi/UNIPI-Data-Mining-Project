{
 "cells": [
  {
   "cell_type": "markdown",
   "id": "d4ab7a75",
   "metadata": {},
   "source": [
    "# Task 1.1 Data Understanding"
   ]
  },
  {
   "cell_type": "markdown",
   "id": "947bc7ce",
   "metadata": {},
   "source": [
    "**Authors:** Abderrahmane Salmi, Ricardo Talarico, Lorenzo Allegrini"
   ]
  },
  {
   "cell_type": "markdown",
   "id": "10107846",
   "metadata": {},
   "source": [
    "Import Libraries & Load Datasets"
   ]
  },
  {
   "cell_type": "code",
   "execution_count": 73,
   "id": "26ef9448",
   "metadata": {},
   "outputs": [],
   "source": [
    "import math\n",
    "import numpy as np\n",
    "import pandas as pd\n",
    "import scipy.stats as stats\n",
    "import matplotlib.pyplot as plt\n",
    "import seaborn as sns\n",
    "import ast"
   ]
  },
  {
   "cell_type": "code",
   "execution_count": 74,
   "id": "e6633ea8",
   "metadata": {},
   "outputs": [],
   "source": [
    "tracks_df = pd.read_csv('../datasets/tracks.csv')\n",
    "artists_df = pd.read_csv('../datasets/artists.csv', sep=';')"
   ]
  },
  {
   "cell_type": "markdown",
   "id": "00ef5e5a",
   "metadata": {},
   "source": [
    "Initial Inspection"
   ]
  },
  {
   "cell_type": "code",
   "execution_count": 75,
   "id": "f26016f4",
   "metadata": {},
   "outputs": [
    {
     "data": {
      "text/html": [
       "<div>\n",
       "<style scoped>\n",
       "    .dataframe tbody tr th:only-of-type {\n",
       "        vertical-align: middle;\n",
       "    }\n",
       "\n",
       "    .dataframe tbody tr th {\n",
       "        vertical-align: top;\n",
       "    }\n",
       "\n",
       "    .dataframe thead th {\n",
       "        text-align: right;\n",
       "    }\n",
       "</style>\n",
       "<table border=\"1\" class=\"dataframe\">\n",
       "  <thead>\n",
       "    <tr style=\"text-align: right;\">\n",
       "      <th></th>\n",
       "      <th>id</th>\n",
       "      <th>id_artist</th>\n",
       "      <th>name_artist</th>\n",
       "      <th>full_title</th>\n",
       "      <th>title</th>\n",
       "      <th>featured_artists</th>\n",
       "      <th>primary_artist</th>\n",
       "      <th>language</th>\n",
       "      <th>album</th>\n",
       "      <th>stats_pageviews</th>\n",
       "      <th>...</th>\n",
       "      <th>album_type</th>\n",
       "      <th>disc_number</th>\n",
       "      <th>track_number</th>\n",
       "      <th>duration_ms</th>\n",
       "      <th>explicit</th>\n",
       "      <th>popularity</th>\n",
       "      <th>album_image</th>\n",
       "      <th>id_album</th>\n",
       "      <th>lyrics</th>\n",
       "      <th>modified_popularity</th>\n",
       "    </tr>\n",
       "  </thead>\n",
       "  <tbody>\n",
       "    <tr>\n",
       "      <th>0</th>\n",
       "      <td>TR934808</td>\n",
       "      <td>ART04205421</td>\n",
       "      <td>Rosa Chemical</td>\n",
       "      <td>​polka 2 :-/ by Rosa Chemical (Ft. Ernia &amp; Guè)</td>\n",
       "      <td>​polka 2 :-/</td>\n",
       "      <td>Ernia, Guè</td>\n",
       "      <td>Rosa Chemical</td>\n",
       "      <td>pl</td>\n",
       "      <td>FOREVER AND EVER</td>\n",
       "      <td>196033.0</td>\n",
       "      <td>...</td>\n",
       "      <td>album</td>\n",
       "      <td>1.0</td>\n",
       "      <td>3.0</td>\n",
       "      <td>207761.0</td>\n",
       "      <td>True</td>\n",
       "      <td>46.0</td>\n",
       "      <td>https://i.scdn.co/image/ab67616d0000b2736d5e14...</td>\n",
       "      <td>ALB115557</td>\n",
       "      <td>Oplà, ah\\nBdope, chiama due b—\\n\\nMi candidere...</td>\n",
       "      <td>False</td>\n",
       "    </tr>\n",
       "    <tr>\n",
       "      <th>1</th>\n",
       "      <td>TR760029</td>\n",
       "      <td>ART04205421</td>\n",
       "      <td>Rosa Chemical</td>\n",
       "      <td>POLKA by Rosa Chemical (Ft. Thelonious B.)</td>\n",
       "      <td>POLKA</td>\n",
       "      <td>Thelonious B.</td>\n",
       "      <td>Rosa Chemical</td>\n",
       "      <td>en</td>\n",
       "      <td>FOREVER AND EVER</td>\n",
       "      <td>164450.0</td>\n",
       "      <td>...</td>\n",
       "      <td>album</td>\n",
       "      <td>1.0</td>\n",
       "      <td>3.0</td>\n",
       "      <td>207761.0</td>\n",
       "      <td>True</td>\n",
       "      <td>46.0</td>\n",
       "      <td>https://i.scdn.co/image/ab67616d0000b2736d5e14...</td>\n",
       "      <td>ALB115557</td>\n",
       "      <td>Greg Willen, non dormire\\n(Brr-poh)\\n\\nT-T-Tro...</td>\n",
       "      <td>False</td>\n",
       "    </tr>\n",
       "    <tr>\n",
       "      <th>2</th>\n",
       "      <td>TR916821</td>\n",
       "      <td>ART04205421</td>\n",
       "      <td>Rosa Chemical</td>\n",
       "      <td>​britney ;-) by Rosa Chemical (Ft. MamboLosco ...</td>\n",
       "      <td>​britney ;-)</td>\n",
       "      <td>MamboLosco, RADICAL</td>\n",
       "      <td>Rosa Chemical</td>\n",
       "      <td>en</td>\n",
       "      <td>FOREVER AND EVER</td>\n",
       "      <td>58313.0</td>\n",
       "      <td>...</td>\n",
       "      <td>album</td>\n",
       "      <td>1.0</td>\n",
       "      <td>1.0</td>\n",
       "      <td>193544.0</td>\n",
       "      <td>True</td>\n",
       "      <td>39.0</td>\n",
       "      <td>https://i.scdn.co/image/ab67616d0000b2736d5e14...</td>\n",
       "      <td>ALB115557</td>\n",
       "      <td>Mothz\\nYeah, yeah, yeah-yeah\\nBdope, chiama du...</td>\n",
       "      <td>False</td>\n",
       "    </tr>\n",
       "    <tr>\n",
       "      <th>3</th>\n",
       "      <td>TR480968</td>\n",
       "      <td>ART04205421</td>\n",
       "      <td>Rosa Chemical</td>\n",
       "      <td>CEO by Rosa Chemical (Ft. Taxi B)</td>\n",
       "      <td>CEO</td>\n",
       "      <td>Taxi B</td>\n",
       "      <td>Rosa Chemical</td>\n",
       "      <td>it</td>\n",
       "      <td>OKAY OKAY !! - EP</td>\n",
       "      <td>39890.0</td>\n",
       "      <td>...</td>\n",
       "      <td>single</td>\n",
       "      <td>1.0</td>\n",
       "      <td>2.0</td>\n",
       "      <td>169000.0</td>\n",
       "      <td>True</td>\n",
       "      <td>47.0</td>\n",
       "      <td>https://i.scdn.co/image/ab67616d0000b27367c03d...</td>\n",
       "      <td>ALB730959</td>\n",
       "      <td>Designer sui vestiti penso di essere un outlet...</td>\n",
       "      <td>False</td>\n",
       "    </tr>\n",
       "    <tr>\n",
       "      <th>4</th>\n",
       "      <td>TR585039</td>\n",
       "      <td>ART04205421</td>\n",
       "      <td>Rosa Chemical</td>\n",
       "      <td>LONDRA by Rosa Chemical (Ft. Rkomi)</td>\n",
       "      <td>LONDRA</td>\n",
       "      <td>Rkomi</td>\n",
       "      <td>Rosa Chemical</td>\n",
       "      <td>en</td>\n",
       "      <td>FOREVER AND EVER</td>\n",
       "      <td>35432.0</td>\n",
       "      <td>...</td>\n",
       "      <td>album</td>\n",
       "      <td>1.0</td>\n",
       "      <td>8.0</td>\n",
       "      <td>194779.0</td>\n",
       "      <td>True</td>\n",
       "      <td>41.0</td>\n",
       "      <td>https://i.scdn.co/image/ab67616d0000b273fcdb60...</td>\n",
       "      <td>ALB436151</td>\n",
       "      <td>Bdope (Yeah)\\n\\nVuole solo me, non fare la gel...</td>\n",
       "      <td>False</td>\n",
       "    </tr>\n",
       "  </tbody>\n",
       "</table>\n",
       "<p>5 rows × 45 columns</p>\n",
       "</div>"
      ],
      "text/plain": [
       "         id    id_artist    name_artist  \\\n",
       "0  TR934808  ART04205421  Rosa Chemical   \n",
       "1  TR760029  ART04205421  Rosa Chemical   \n",
       "2  TR916821  ART04205421  Rosa Chemical   \n",
       "3  TR480968  ART04205421  Rosa Chemical   \n",
       "4  TR585039  ART04205421  Rosa Chemical   \n",
       "\n",
       "                                          full_title         title  \\\n",
       "0    ​polka 2 :-/ by Rosa Chemical (Ft. Ernia & Guè)  ​polka 2 :-/   \n",
       "1         POLKA by Rosa Chemical (Ft. Thelonious B.)         POLKA   \n",
       "2  ​britney ;-) by Rosa Chemical (Ft. MamboLosco ...  ​britney ;-)   \n",
       "3                  CEO by Rosa Chemical (Ft. Taxi B)           CEO   \n",
       "4                LONDRA by Rosa Chemical (Ft. Rkomi)        LONDRA   \n",
       "\n",
       "      featured_artists primary_artist language              album  \\\n",
       "0           Ernia, Guè  Rosa Chemical       pl   FOREVER AND EVER   \n",
       "1        Thelonious B.  Rosa Chemical       en   FOREVER AND EVER   \n",
       "2  MamboLosco, RADICAL  Rosa Chemical       en   FOREVER AND EVER   \n",
       "3               Taxi B  Rosa Chemical       it  OKAY OKAY !! - EP   \n",
       "4                Rkomi  Rosa Chemical       en   FOREVER AND EVER   \n",
       "\n",
       "   stats_pageviews  ...  album_type  disc_number track_number duration_ms  \\\n",
       "0         196033.0  ...       album          1.0          3.0    207761.0   \n",
       "1         164450.0  ...       album          1.0          3.0    207761.0   \n",
       "2          58313.0  ...       album          1.0          1.0    193544.0   \n",
       "3          39890.0  ...      single          1.0          2.0    169000.0   \n",
       "4          35432.0  ...       album          1.0          8.0    194779.0   \n",
       "\n",
       "  explicit  popularity                                        album_image  \\\n",
       "0     True        46.0  https://i.scdn.co/image/ab67616d0000b2736d5e14...   \n",
       "1     True        46.0  https://i.scdn.co/image/ab67616d0000b2736d5e14...   \n",
       "2     True        39.0  https://i.scdn.co/image/ab67616d0000b2736d5e14...   \n",
       "3     True        47.0  https://i.scdn.co/image/ab67616d0000b27367c03d...   \n",
       "4     True        41.0  https://i.scdn.co/image/ab67616d0000b273fcdb60...   \n",
       "\n",
       "    id_album                                             lyrics  \\\n",
       "0  ALB115557  Oplà, ah\\nBdope, chiama due b—\\n\\nMi candidere...   \n",
       "1  ALB115557  Greg Willen, non dormire\\n(Brr-poh)\\n\\nT-T-Tro...   \n",
       "2  ALB115557  Mothz\\nYeah, yeah, yeah-yeah\\nBdope, chiama du...   \n",
       "3  ALB730959  Designer sui vestiti penso di essere un outlet...   \n",
       "4  ALB436151  Bdope (Yeah)\\n\\nVuole solo me, non fare la gel...   \n",
       "\n",
       "   modified_popularity  \n",
       "0                False  \n",
       "1                False  \n",
       "2                False  \n",
       "3                False  \n",
       "4                False  \n",
       "\n",
       "[5 rows x 45 columns]"
      ]
     },
     "execution_count": 75,
     "metadata": {},
     "output_type": "execute_result"
    }
   ],
   "source": [
    "# First few tracks\n",
    "tracks_df.head()"
   ]
  },
  {
   "cell_type": "code",
   "execution_count": 76,
   "id": "7c74c082",
   "metadata": {},
   "outputs": [
    {
     "data": {
      "text/html": [
       "<div>\n",
       "<style scoped>\n",
       "    .dataframe tbody tr th:only-of-type {\n",
       "        vertical-align: middle;\n",
       "    }\n",
       "\n",
       "    .dataframe tbody tr th {\n",
       "        vertical-align: top;\n",
       "    }\n",
       "\n",
       "    .dataframe thead th {\n",
       "        text-align: right;\n",
       "    }\n",
       "</style>\n",
       "<table border=\"1\" class=\"dataframe\">\n",
       "  <thead>\n",
       "    <tr style=\"text-align: right;\">\n",
       "      <th></th>\n",
       "      <th>id_author</th>\n",
       "      <th>name</th>\n",
       "      <th>gender</th>\n",
       "      <th>birth_date</th>\n",
       "      <th>birth_place</th>\n",
       "      <th>nationality</th>\n",
       "      <th>description</th>\n",
       "      <th>active_start</th>\n",
       "      <th>active_end</th>\n",
       "      <th>province</th>\n",
       "      <th>region</th>\n",
       "      <th>country</th>\n",
       "      <th>latitude</th>\n",
       "      <th>longitude</th>\n",
       "    </tr>\n",
       "  </thead>\n",
       "  <tbody>\n",
       "    <tr>\n",
       "      <th>0</th>\n",
       "      <td>ART82291002</td>\n",
       "      <td>99 posse</td>\n",
       "      <td>M</td>\n",
       "      <td>NaN</td>\n",
       "      <td>NaN</td>\n",
       "      <td>NaN</td>\n",
       "      <td>gruppo musicale italiano</td>\n",
       "      <td>1991-01-01</td>\n",
       "      <td>NaN</td>\n",
       "      <td>NaN</td>\n",
       "      <td>NaN</td>\n",
       "      <td>NaN</td>\n",
       "      <td>NaN</td>\n",
       "      <td>NaN</td>\n",
       "    </tr>\n",
       "    <tr>\n",
       "      <th>1</th>\n",
       "      <td>ART53496045</td>\n",
       "      <td>achille lauro</td>\n",
       "      <td>M</td>\n",
       "      <td>1990-07-11</td>\n",
       "      <td>Verona</td>\n",
       "      <td>Italia</td>\n",
       "      <td>cantautore e rapper italiano (1990-)</td>\n",
       "      <td>2012-01-01</td>\n",
       "      <td>NaN</td>\n",
       "      <td>Verona</td>\n",
       "      <td>Veneto</td>\n",
       "      <td>Italia</td>\n",
       "      <td>45.442498</td>\n",
       "      <td>10.985738</td>\n",
       "    </tr>\n",
       "    <tr>\n",
       "      <th>2</th>\n",
       "      <td>ART18853907</td>\n",
       "      <td>alfa</td>\n",
       "      <td>M</td>\n",
       "      <td>NaN</td>\n",
       "      <td>NaN</td>\n",
       "      <td>NaN</td>\n",
       "      <td>NaN</td>\n",
       "      <td>NaN</td>\n",
       "      <td>NaN</td>\n",
       "      <td>NaN</td>\n",
       "      <td>NaN</td>\n",
       "      <td>NaN</td>\n",
       "      <td>NaN</td>\n",
       "      <td>NaN</td>\n",
       "    </tr>\n",
       "    <tr>\n",
       "      <th>3</th>\n",
       "      <td>ART64265460</td>\n",
       "      <td>anna pepe</td>\n",
       "      <td>F</td>\n",
       "      <td>NaN</td>\n",
       "      <td>NaN</td>\n",
       "      <td>NaN</td>\n",
       "      <td>NaN</td>\n",
       "      <td>NaN</td>\n",
       "      <td>NaN</td>\n",
       "      <td>NaN</td>\n",
       "      <td>NaN</td>\n",
       "      <td>NaN</td>\n",
       "      <td>NaN</td>\n",
       "      <td>NaN</td>\n",
       "    </tr>\n",
       "    <tr>\n",
       "      <th>4</th>\n",
       "      <td>ART75741740</td>\n",
       "      <td>articolo 31</td>\n",
       "      <td>M</td>\n",
       "      <td>NaN</td>\n",
       "      <td>NaN</td>\n",
       "      <td>NaN</td>\n",
       "      <td>gruppo musicale hip hop italiano</td>\n",
       "      <td>1990-01-01</td>\n",
       "      <td>NaN</td>\n",
       "      <td>NaN</td>\n",
       "      <td>NaN</td>\n",
       "      <td>NaN</td>\n",
       "      <td>NaN</td>\n",
       "      <td>NaN</td>\n",
       "    </tr>\n",
       "  </tbody>\n",
       "</table>\n",
       "</div>"
      ],
      "text/plain": [
       "     id_author           name gender  birth_date birth_place nationality  \\\n",
       "0  ART82291002       99 posse      M         NaN         NaN         NaN   \n",
       "1  ART53496045  achille lauro      M  1990-07-11      Verona      Italia   \n",
       "2  ART18853907           alfa      M         NaN         NaN         NaN   \n",
       "3  ART64265460      anna pepe      F         NaN         NaN         NaN   \n",
       "4  ART75741740    articolo 31      M         NaN         NaN         NaN   \n",
       "\n",
       "                            description active_start  active_end province  \\\n",
       "0              gruppo musicale italiano   1991-01-01         NaN      NaN   \n",
       "1  cantautore e rapper italiano (1990-)   2012-01-01         NaN   Verona   \n",
       "2                                   NaN          NaN         NaN      NaN   \n",
       "3                                   NaN          NaN         NaN      NaN   \n",
       "4      gruppo musicale hip hop italiano   1990-01-01         NaN      NaN   \n",
       "\n",
       "   region country   latitude  longitude  \n",
       "0     NaN     NaN        NaN        NaN  \n",
       "1  Veneto  Italia  45.442498  10.985738  \n",
       "2     NaN     NaN        NaN        NaN  \n",
       "3     NaN     NaN        NaN        NaN  \n",
       "4     NaN     NaN        NaN        NaN  "
      ]
     },
     "execution_count": 76,
     "metadata": {},
     "output_type": "execute_result"
    }
   ],
   "source": [
    "# First few artists\n",
    "artists_df.head()"
   ]
  },
  {
   "cell_type": "markdown",
   "id": "1ab47163",
   "metadata": {},
   "source": [
    "Feature Summary"
   ]
  },
  {
   "cell_type": "code",
   "execution_count": 77,
   "id": "96be384e",
   "metadata": {},
   "outputs": [
    {
     "name": "stdout",
     "output_type": "stream",
     "text": [
      "Tracks dataset shape: (11166, 45)\n",
      "<class 'pandas.core.frame.DataFrame'>\n",
      "RangeIndex: 11166 entries, 0 to 11165\n",
      "Data columns (total 45 columns):\n",
      " #   Column                Non-Null Count  Dtype  \n",
      "---  ------                --------------  -----  \n",
      " 0   id                    11166 non-null  object \n",
      " 1   id_artist             11166 non-null  object \n",
      " 2   name_artist           11166 non-null  object \n",
      " 3   full_title            11166 non-null  object \n",
      " 4   title                 11166 non-null  object \n",
      " 5   featured_artists      3517 non-null   object \n",
      " 6   primary_artist        11166 non-null  object \n",
      " 7   language              11061 non-null  object \n",
      " 8   album                 9652 non-null   object \n",
      " 9   stats_pageviews       4642 non-null   float64\n",
      " 10  swear_IT              11166 non-null  int64  \n",
      " 11  swear_EN              11166 non-null  int64  \n",
      " 12  swear_IT_words        11166 non-null  object \n",
      " 13  swear_EN_words        11166 non-null  object \n",
      " 14  year                  10766 non-null  object \n",
      " 15  month                 9969 non-null   float64\n",
      " 16  day                   9843 non-null   float64\n",
      " 17  n_sentences           11090 non-null  float64\n",
      " 18  n_tokens              11090 non-null  float64\n",
      " 19  tokens_per_sent       11090 non-null  float64\n",
      " 20  char_per_tok          11090 non-null  float64\n",
      " 21  lexical_density       11090 non-null  float64\n",
      " 22  avg_token_per_clause  11090 non-null  float64\n",
      " 23  bpm                   11102 non-null  float64\n",
      " 24  centroid              11102 non-null  float64\n",
      " 25  rolloff               11102 non-null  float64\n",
      " 26  flux                  11102 non-null  float64\n",
      " 27  rms                   11102 non-null  float64\n",
      " 28  zcr                   11102 non-null  float64\n",
      " 29  flatness              11102 non-null  float64\n",
      " 30  spectral_complexity   11102 non-null  float64\n",
      " 31  pitch                 11102 non-null  float64\n",
      " 32  loudness              11102 non-null  float64\n",
      " 33  album_name            11088 non-null  object \n",
      " 34  album_release_date    11088 non-null  object \n",
      " 35  album_type            11088 non-null  object \n",
      " 36  disc_number           11088 non-null  float64\n",
      " 37  track_number          11088 non-null  float64\n",
      " 38  duration_ms           11088 non-null  float64\n",
      " 39  explicit              11088 non-null  object \n",
      " 40  popularity            11164 non-null  object \n",
      " 41  album_image           11088 non-null  object \n",
      " 42  id_album              11088 non-null  object \n",
      " 43  lyrics                11163 non-null  object \n",
      " 44  modified_popularity   11166 non-null  bool   \n",
      "dtypes: bool(1), float64(22), int64(2), object(20)\n",
      "memory usage: 3.8+ MB\n"
     ]
    }
   ],
   "source": [
    "# Dataset shape\n",
    "print(\"Tracks dataset shape:\", tracks_df.shape)\n",
    "\n",
    "# Info summary\n",
    "tracks_df.info()"
   ]
  },
  {
   "cell_type": "code",
   "execution_count": 78,
   "id": "13fc86e2",
   "metadata": {},
   "outputs": [
    {
     "name": "stdout",
     "output_type": "stream",
     "text": [
      "Artists dataset shape: (104, 14)\n",
      "<class 'pandas.core.frame.DataFrame'>\n",
      "RangeIndex: 104 entries, 0 to 103\n",
      "Data columns (total 14 columns):\n",
      " #   Column        Non-Null Count  Dtype  \n",
      "---  ------        --------------  -----  \n",
      " 0   id_author     104 non-null    object \n",
      " 1   name          104 non-null    object \n",
      " 2   gender        104 non-null    object \n",
      " 3   birth_date    73 non-null     object \n",
      " 4   birth_place   72 non-null     object \n",
      " 5   nationality   71 non-null     object \n",
      " 6   description   86 non-null     object \n",
      " 7   active_start  50 non-null     object \n",
      " 8   active_end    0 non-null      float64\n",
      " 9   province      70 non-null     object \n",
      " 10  region        68 non-null     object \n",
      " 11  country       70 non-null     object \n",
      " 12  latitude      72 non-null     float64\n",
      " 13  longitude     72 non-null     float64\n",
      "dtypes: float64(3), object(11)\n",
      "memory usage: 11.5+ KB\n"
     ]
    }
   ],
   "source": [
    "# Same thing for artists\n",
    "print(\"Artists dataset shape:\", artists_df.shape)\n",
    "artists_df.info()"
   ]
  },
  {
   "cell_type": "code",
   "execution_count": 79,
   "id": "6fda0d84",
   "metadata": {},
   "outputs": [
    {
     "data": {
      "text/plain": [
       "full_title              11164\n",
       "lyrics                  11153\n",
       "id                      11093\n",
       "rolloff                 10785\n",
       "pitch                   10782\n",
       "spectral_complexity     10579\n",
       "loudness                10561\n",
       "title                   10521\n",
       "char_per_tok             9844\n",
       "duration_ms              7910\n",
       "lexical_density          7761\n",
       "avg_token_per_clause     7569\n",
       "tokens_per_sent          6877\n",
       "flux                     4633\n",
       "stats_pageviews          4422\n",
       "bpm                      4119\n",
       "id_album                 3061\n",
       "rms                      2775\n",
       "swear_IT_words           2659\n",
       "flatness                 2536\n",
       "album_image              2486\n",
       "album_name               2421\n",
       "featured_artists         1740\n",
       "centroid                 1450\n",
       "album_release_date       1390\n",
       "n_tokens                 1063\n",
       "zcr                       970\n",
       "album                     890\n",
       "swear_EN_words            535\n",
       "year                      195\n",
       "n_sentences               176\n",
       "popularity                170\n",
       "id_artist                 104\n",
       "name_artist               104\n",
       "primary_artist            104\n",
       "swear_IT                   44\n",
       "swear_EN                   40\n",
       "track_number               39\n",
       "language                   35\n",
       "day                        31\n",
       "month                      12\n",
       "disc_number                 5\n",
       "album_type                  3\n",
       "explicit                    2\n",
       "modified_popularity         2\n",
       "dtype: int64"
      ]
     },
     "execution_count": 79,
     "metadata": {},
     "output_type": "execute_result"
    }
   ],
   "source": [
    "# Quick look at number of unique values per column (to understand categorical vars)\n",
    "tracks_df.nunique().sort_values(ascending=False)"
   ]
  },
  {
   "cell_type": "code",
   "execution_count": 80,
   "id": "f9a1ffca",
   "metadata": {},
   "outputs": [
    {
     "data": {
      "text/plain": [
       "id_author       104\n",
       "name            104\n",
       "birth_date       73\n",
       "description      69\n",
       "longitude        40\n",
       "birth_place      40\n",
       "latitude         40\n",
       "province         26\n",
       "active_start     24\n",
       "region           13\n",
       "nationality       2\n",
       "gender            2\n",
       "country           1\n",
       "active_end        0\n",
       "dtype: int64"
      ]
     },
     "execution_count": 80,
     "metadata": {},
     "output_type": "execute_result"
    }
   ],
   "source": [
    "# Quick look at number of unique values per column (to understand categorical vars)\n",
    "artists_df.nunique().sort_values(ascending=False)"
   ]
  },
  {
   "cell_type": "markdown",
   "id": "7b0e1e9c",
   "metadata": {},
   "source": [
    "Data Type Review & Type Casting Plan"
   ]
  },
  {
   "cell_type": "code",
   "execution_count": 81,
   "id": "f045e10c",
   "metadata": {},
   "outputs": [
    {
     "data": {
      "text/plain": [
       "modified_popularity        bool\n",
       "swear_EN                  int64\n",
       "swear_IT                  int64\n",
       "lexical_density         float64\n",
       "bpm                     float64\n",
       "centroid                float64\n",
       "rolloff                 float64\n",
       "flux                    float64\n",
       "char_per_tok            float64\n",
       "rms                     float64\n",
       "flatness                float64\n",
       "spectral_complexity     float64\n",
       "pitch                   float64\n",
       "loudness                float64\n",
       "disc_number             float64\n",
       "track_number            float64\n",
       "duration_ms             float64\n",
       "zcr                     float64\n",
       "tokens_per_sent         float64\n",
       "avg_token_per_clause    float64\n",
       "n_sentences             float64\n",
       "day                     float64\n",
       "month                   float64\n",
       "stats_pageviews         float64\n",
       "n_tokens                float64\n",
       "id_album                 object\n",
       "album_image              object\n",
       "popularity               object\n",
       "explicit                 object\n",
       "id_artist                object\n",
       "name_artist              object\n",
       "full_title               object\n",
       "album_type               object\n",
       "album_release_date       object\n",
       "title                    object\n",
       "featured_artists         object\n",
       "primary_artist           object\n",
       "language                 object\n",
       "album                    object\n",
       "swear_IT_words           object\n",
       "swear_EN_words           object\n",
       "year                     object\n",
       "lyrics                   object\n",
       "album_name               object\n",
       "id                       object\n",
       "dtype: object"
      ]
     },
     "execution_count": 81,
     "metadata": {},
     "output_type": "execute_result"
    }
   ],
   "source": [
    "# Check data types\n",
    "tracks_df.dtypes.sort_values()"
   ]
  },
  {
   "cell_type": "code",
   "execution_count": 82,
   "id": "f8129c33",
   "metadata": {},
   "outputs": [
    {
     "data": {
      "text/plain": [
       "active_end      float64\n",
       "latitude        float64\n",
       "longitude       float64\n",
       "id_author        object\n",
       "name             object\n",
       "gender           object\n",
       "birth_date       object\n",
       "birth_place      object\n",
       "nationality      object\n",
       "description      object\n",
       "active_start     object\n",
       "province         object\n",
       "region           object\n",
       "country          object\n",
       "dtype: object"
      ]
     },
     "execution_count": 82,
     "metadata": {},
     "output_type": "execute_result"
    }
   ],
   "source": [
    "# Check data types\n",
    "artists_df.dtypes.sort_values()"
   ]
  },
  {
   "cell_type": "markdown",
   "id": "55a69884",
   "metadata": {},
   "source": [
    "Casting features types"
   ]
  },
  {
   "cell_type": "code",
   "execution_count": 83,
   "id": "f615a1ed",
   "metadata": {},
   "outputs": [],
   "source": [
    "# --- Cast types for tracks_df ---\n",
    "\n",
    "# Categorical fields\n",
    "tracks_df['language'] = tracks_df['language'].astype('category')\n",
    "tracks_df['album_type'] = tracks_df['album_type'].astype('category')\n",
    "\n",
    "# Date parsing\n",
    "tracks_df['album_release_date'] = pd.to_datetime(tracks_df['album_release_date'], errors='coerce')\n",
    "\n",
    "# Int (nullable)\n",
    "for col in ['swear_IT', 'swear_EN', 'n_sentences', 'n_tokens', 'year', 'month', 'day',\n",
    "            'disc_number', 'track_number', 'duration_ms', 'popularity', 'stats_pageviews']:\n",
    "    tracks_df[col] = pd.to_numeric(tracks_df[col], downcast='integer', errors='coerce').astype('Int64')\n",
    "\n",
    "# Float (keep as is, but ensure type consistency)\n",
    "float_cols = ['tokens_per_sent', 'char_per_tok', 'lexical_density', 'avg_token_per_clause',\n",
    "              'bpm', 'centroid', 'rolloff', 'flux', 'rms', 'zcr', 'flatness',\n",
    "              'spectral_complexity', 'pitch', 'loudness']\n",
    "\n",
    "for col in float_cols:\n",
    "    tracks_df[col] = pd.to_numeric(tracks_df[col], errors='coerce').astype('float')\n",
    "\n",
    "# Boolean fields\n",
    "tracks_df['explicit'] = tracks_df['explicit'].astype('boolean')\n",
    "tracks_df['modified_popularity'] = tracks_df['modified_popularity'].astype('boolean')\n",
    "\n",
    "# Parse list-like strings into actual lists\n",
    "def parse_list(val):\n",
    "    try:\n",
    "        return ast.literal_eval(val) if pd.notnull(val) else []\n",
    "    except (ValueError, SyntaxError):\n",
    "        return []\n",
    "\n",
    "list_cols = ['swear_IT_words', 'swear_EN_words']\n",
    "for col in list_cols:\n",
    "    tracks_df[col] = tracks_df[col].apply(parse_list)\n",
    "\n",
    "# String (object-like) — no casting needed if already object, but can make explicit:\n",
    "string_cols = ['id', 'id_artist', 'name_artist', 'full_title', 'title', 'featured_artists',\n",
    "               'primary_artist', 'album', 'album_name', 'id_album', 'album_image', 'lyrics']\n",
    "for col in string_cols:\n",
    "    tracks_df[col] = tracks_df[col].astype('string')"
   ]
  },
  {
   "cell_type": "code",
   "execution_count": 84,
   "id": "76209494",
   "metadata": {},
   "outputs": [
    {
     "name": "stdout",
     "output_type": "stream",
     "text": [
      "\n",
      "--- Tracks Data Types ---\n",
      "id                      string[python]\n",
      "id_artist               string[python]\n",
      "name_artist             string[python]\n",
      "full_title              string[python]\n",
      "title                   string[python]\n",
      "featured_artists        string[python]\n",
      "primary_artist          string[python]\n",
      "language                      category\n",
      "album                   string[python]\n",
      "stats_pageviews                  Int64\n",
      "swear_IT                         Int64\n",
      "swear_EN                         Int64\n",
      "swear_IT_words                  object\n",
      "swear_EN_words                  object\n",
      "year                             Int64\n",
      "month                            Int64\n",
      "day                              Int64\n",
      "n_sentences                      Int64\n",
      "n_tokens                         Int64\n",
      "tokens_per_sent                float64\n",
      "char_per_tok                   float64\n",
      "lexical_density                float64\n",
      "avg_token_per_clause           float64\n",
      "bpm                            float64\n",
      "centroid                       float64\n",
      "rolloff                        float64\n",
      "flux                           float64\n",
      "rms                            float64\n",
      "zcr                            float64\n",
      "flatness                       float64\n",
      "spectral_complexity            float64\n",
      "pitch                          float64\n",
      "loudness                       float64\n",
      "album_name              string[python]\n",
      "album_release_date      datetime64[ns]\n",
      "album_type                    category\n",
      "disc_number                      Int64\n",
      "track_number                     Int64\n",
      "duration_ms                      Int64\n",
      "explicit                       boolean\n",
      "popularity                       Int64\n",
      "album_image             string[python]\n",
      "id_album                string[python]\n",
      "lyrics                  string[python]\n",
      "modified_popularity            boolean\n",
      "dtype: object\n"
     ]
    }
   ],
   "source": [
    "# Check After Casting\n",
    "print(\"\\n--- Tracks Data Types ---\")\n",
    "print(tracks_df.dtypes)"
   ]
  },
  {
   "cell_type": "code",
   "execution_count": 85,
   "id": "15928afb",
   "metadata": {},
   "outputs": [],
   "source": [
    "# --- Cast types for artists_df ---\n",
    "\n",
    "# Categorical\n",
    "cat_cols = ['gender', 'nationality', 'province', 'region', 'country']\n",
    "for col in cat_cols:\n",
    "    artists_df[col] = artists_df[col].astype('category')\n",
    "\n",
    "# Datetime\n",
    "artists_df['birth_date'] = pd.to_datetime(artists_df['birth_date'], errors='coerce')\n",
    "artists_df['active_start'] = pd.to_datetime(artists_df['active_start'], errors='coerce')\n",
    "artists_df['active_end'] = pd.to_datetime(artists_df['active_end'], errors='coerce')\n",
    "\n",
    "# Float\n",
    "artists_df['latitude'] = pd.to_numeric(artists_df['latitude'], errors='coerce').astype('float')\n",
    "artists_df['longitude'] = pd.to_numeric(artists_df['longitude'], errors='coerce').astype('float')\n",
    "\n",
    "# String / object\n",
    "string_cols = ['id_author', 'name', 'birth_place', 'description']\n",
    "for col in string_cols:\n",
    "    artists_df[col] = artists_df[col].astype('string')\n"
   ]
  },
  {
   "cell_type": "code",
   "execution_count": 86,
   "id": "acb52809",
   "metadata": {},
   "outputs": [
    {
     "name": "stdout",
     "output_type": "stream",
     "text": [
      "\n",
      "--- Artists Data Types ---\n",
      "id_author       string[python]\n",
      "name            string[python]\n",
      "gender                category\n",
      "birth_date      datetime64[ns]\n",
      "birth_place     string[python]\n",
      "nationality           category\n",
      "description     string[python]\n",
      "active_start    datetime64[ns]\n",
      "active_end      datetime64[ns]\n",
      "province              category\n",
      "region                category\n",
      "country               category\n",
      "latitude               float64\n",
      "longitude              float64\n",
      "dtype: object\n"
     ]
    }
   ],
   "source": [
    "# Check After Casting\n",
    "print(\"\\n--- Artists Data Types ---\")\n",
    "print(artists_df.dtypes)"
   ]
  },
  {
   "cell_type": "markdown",
   "id": "3d477d6d",
   "metadata": {},
   "source": [
    "#### Data Quality Assessment"
   ]
  },
  {
   "cell_type": "code",
   "execution_count": 87,
   "id": "0f23ad46",
   "metadata": {},
   "outputs": [
    {
     "data": {
      "text/plain": [
       "birth_date       32\n",
       "birth_place      32\n",
       "nationality      33\n",
       "description      18\n",
       "active_start     54\n",
       "active_end      104\n",
       "province         34\n",
       "region           36\n",
       "country          34\n",
       "latitude         32\n",
       "longitude        32\n",
       "dtype: int64"
      ]
     },
     "execution_count": 87,
     "metadata": {},
     "output_type": "execute_result"
    }
   ],
   "source": [
    "from utils import *\n",
    "\n",
    "\n",
    "artists_validators = {\n",
    "    \"gender\": lambda df: check_in_set(df, column=\"gender\", valid_values={'M','F'}),\n",
    "    \"longitude\": lambda df: check_numeric_range(df, column=\"longitude\", start=-180, end=180),\n",
    "    \"latitude\" : lambda df: check_numeric_range(df, column=\"latitude\", start =-90, end=90),\n",
    "    \"birth_date\" : lambda df: check_date(df, column=\"birth_date\", date_min=\"1920-01-01\"),\n",
    "    \"active_start\": lambda df: check_date(df, column=\"active_start\", date_min=\"1940-01-01\"),\n",
    "    \"active_end\" : lambda df: check_date(df, column=\"active_end\", date_min=\"1920-01-01\"),\n",
    "    \"region\" : lambda df: check_in_set(df,column=\"region\", valid_values=italian_regions)\n",
    "}\n",
    "\n",
    "artists_reporter = DataQualityReporter(artists_df, artists_validators)\n",
    "\n",
    "artists_reporter.compute_report()\n",
    "artists_reporter[\"missing_values\"]"
   ]
  },
  {
   "cell_type": "code",
   "execution_count": 88,
   "id": "fa015dde",
   "metadata": {},
   "outputs": [
    {
     "data": {
      "image/png": "[encoded data removed]",
      "text/plain": [
       "<Figure size 640x480 with 1 Axes>"
      ]
     },
     "metadata": {},
     "output_type": "display_data"
    }
   ],
   "source": [
    "artists_reporter.plot_missing_values()"
   ]
  },
  {
   "cell_type": "markdown",
   "id": "892ac2b7",
   "metadata": {},
   "source": [
    "We can see that active end is missing for all artists, so we'll drop it.\n",
    "Active start is missing for half of the artists"
   ]
  },
  {
   "cell_type": "code",
   "execution_count": 89,
   "id": "8c43a255",
   "metadata": {},
   "outputs": [
    {
     "name": "stdout",
     "output_type": "stream",
     "text": [
      "Empty DataFrame\n",
      "Columns: [id_author, name, gender, birth_date, birth_place, nationality, description, active_start, active_end, province, region, country, latitude, longitude]\n",
      "Index: []\n"
     ]
    }
   ],
   "source": [
    "artists_reporter.report_duplicated_rows()"
   ]
  },
  {
   "cell_type": "code",
   "execution_count": 90,
   "id": "cbfed77e",
   "metadata": {},
   "outputs": [
    {
     "name": "stdout",
     "output_type": "stream",
     "text": [
      "['region']\n",
      "Features not validated: ['id_author', 'name', 'birth_place', 'nationality', 'description', 'province', 'country']\n"
     ]
    }
   ],
   "source": [
    "artists_reporter.report_invalid_values()\n",
    "print(f\"Features not validated: {artists_reporter['not_validated']}\")\n"
   ]
  },
  {
   "cell_type": "code",
   "execution_count": 91,
   "id": "2898419f",
   "metadata": {},
   "outputs": [
    {
     "name": "stdout",
     "output_type": "stream",
     "text": [
      "Number of invalid arguments in region is 36\n"
     ]
    },
    {
     "data": {
      "text/plain": [
       "[(0, \"value 'nan' not in allowed set\"),\n",
       " (2, \"value 'nan' not in allowed set\"),\n",
       " (3, \"value 'nan' not in allowed set\"),\n",
       " (4, \"value 'nan' not in allowed set\"),\n",
       " (6, \"value 'nan' not in allowed set\"),\n",
       " (8, \"value 'nan' not in allowed set\"),\n",
       " (9, \"value 'nan' not in allowed set\"),\n",
       " (10, \"value 'nan' not in allowed set\"),\n",
       " (11, \"value 'nan' not in allowed set\"),\n",
       " (12, \"value 'nan' not in allowed set\"),\n",
       " (17, \"value 'nan' not in allowed set\"),\n",
       " (19, \"value 'nan' not in allowed set\"),\n",
       " (20, \"value 'nan' not in allowed set\"),\n",
       " (22, \"value 'nan' not in allowed set\"),\n",
       " (23, \"value 'nan' not in allowed set\"),\n",
       " (24, \"value 'nan' not in allowed set\"),\n",
       " (31, \"value 'nan' not in allowed set\"),\n",
       " (32, \"value 'nan' not in allowed set\"),\n",
       " (42, \"value 'nan' not in allowed set\"),\n",
       " (44, \"value 'nan' not in allowed set\"),\n",
       " (50, \"value 'nan' not in allowed set\"),\n",
       " (51, \"value 'nan' not in allowed set\"),\n",
       " (61, \"value 'nan' not in allowed set\"),\n",
       " (62, \"value 'nan' not in allowed set\"),\n",
       " (63, \"value 'nan' not in allowed set\"),\n",
       " (65, \"value 'nan' not in allowed set\"),\n",
       " (70, \"value 'nan' not in allowed set\"),\n",
       " (71, \"value 'nan' not in allowed set\"),\n",
       " (75, \"value 'nan' not in allowed set\"),\n",
       " (78, \"value 'nan' not in allowed set\"),\n",
       " (87, \"value 'nan' not in allowed set\"),\n",
       " (89, \"value 'nan' not in allowed set\"),\n",
       " (91, \"value 'nan' not in allowed set\"),\n",
       " (92, \"value 'nan' not in allowed set\"),\n",
       " (94, \"value 'nan' not in allowed set\"),\n",
       " (102, \"value 'nan' not in allowed set\")]"
      ]
     },
     "execution_count": 91,
     "metadata": {},
     "output_type": "execute_result"
    }
   ],
   "source": [
    "print(f\"Number of invalid arguments in region is {len(artists_reporter['invalid']['region'])}\")\n",
    "artists_reporter['invalid']['region']"
   ]
  },
  {
   "cell_type": "markdown",
   "id": "6f533be7",
   "metadata": {},
   "source": [
    "There are no invalid values, just missing ones."
   ]
  },
  {
   "cell_type": "markdown",
   "id": "d89b9f8a",
   "metadata": {},
   "source": [
    "The same is done with the tracks dataset"
   ]
  },
  {
   "cell_type": "code",
   "execution_count": 92,
   "id": "ca1409d5",
   "metadata": {},
   "outputs": [
    {
     "name": "stdout",
     "output_type": "stream",
     "text": [
      "Empty DataFrame\n",
      "Columns: [id, id_artist, name_artist, full_title, title, featured_artists, primary_artist, language, album, stats_pageviews, swear_IT, swear_EN, swear_IT_words, swear_EN_words, year, month, day, n_sentences, n_tokens, tokens_per_sent, char_per_tok, lexical_density, avg_token_per_clause, bpm, centroid, rolloff, flux, rms, zcr, flatness, spectral_complexity, pitch, loudness, album_name, album_release_date, album_type, disc_number, track_number, duration_ms, explicit, popularity, album_image, id_album, lyrics, modified_popularity]\n",
      "Index: []\n",
      "\n",
      "[0 rows x 45 columns]\n"
     ]
    },
    {
     "data": {
      "text/plain": [
       "featured_artists        7649\n",
       "language                 105\n",
       "album                   1514\n",
       "stats_pageviews         6524\n",
       "year                     438\n",
       "month                   1197\n",
       "day                     1323\n",
       "n_sentences               76\n",
       "n_tokens                  76\n",
       "tokens_per_sent           76\n",
       "char_per_tok              76\n",
       "lexical_density           76\n",
       "avg_token_per_clause      76\n",
       "bpm                       64\n",
       "centroid                  64\n",
       "rolloff                   64\n",
       "flux                      64\n",
       "rms                       64\n",
       "zcr                       64\n",
       "flatness                  64\n",
       "spectral_complexity       64\n",
       "pitch                     64\n",
       "loudness                  64\n",
       "album_name                78\n",
       "album_release_date       339\n",
       "album_type                78\n",
       "disc_number               78\n",
       "track_number              78\n",
       "duration_ms               78\n",
       "explicit                  78\n",
       "popularity                29\n",
       "album_image               78\n",
       "id_album                  78\n",
       "lyrics                     3\n",
       "dtype: int64"
      ]
     },
     "execution_count": 92,
     "metadata": {},
     "output_type": "execute_result"
    }
   ],
   "source": [
    "\n",
    "tracks_validators={\n",
    "    'stats_pageviews': lambda df: check_numeric_range(df, column='stats_pageviews', start=0.0, end=float(\"inf\")),\n",
    "    'swear_IT': lambda df: check_numeric_range(df, column='swear_IT', start=0, end=1e6),\n",
    "    'swear_EN' : lambda df: check_numeric_range(df, column='swear_EN', start=0, end=1e6),\n",
    "    'year': lambda df: check_numeric_range(df, column='year', start=1920, end=2025),\n",
    "    'month' : lambda df: check_numeric_range(df, column='month', start=1, end=12),\n",
    "    \"day\" : lambda df: check_numeric_range(df, column='day', start=1, end=31),\n",
    "    \"n_sentences\": lambda df: check_numeric_range(df, column='n_sentences', start=0, end=1e10),\n",
    "    'n_tokens': lambda df: check_numeric_range(df, column='n_tokens', start=0, end=1e10),\n",
    "    'tokens_per_sent' : lambda df: check_numeric_range(df, column='tokens_per_sent', start=0.0, end=float(\"inf\")),\n",
    "    'char_per_tok' : lambda df: check_numeric_range(df, column='char_per_tok', start=0.0, end=float(\"inf\")),\n",
    "    'lexical_density': lambda df: check_numeric_range(df, column='lexical_density', start=0.0, end=float(\"inf\")),\n",
    "    'avg_token_per_clause' : lambda df: check_numeric_range(df, column='avg_token_per_clause', start=0.0, end=float(\"inf\")),\n",
    "    'bpm': lambda df: check_numeric_range(df, column='bpm', start=0.0, end=float(\"inf\")),\n",
    "    'centroid': lambda df: check_numeric_range(df, column='centroid', start=0.0, end=float(\"inf\")),\n",
    "    'rollof': lambda df: check_numeric_range(df, column='rollof', start=0.0, end=float(\"inf\")),\n",
    "    'flux': lambda df: check_numeric_range(df, column='flux', start=0.0, end=float(\"inf\")),\n",
    "    'rms': lambda df: check_numeric_range(df, column='rms', start=0.0, end=float(\"inf\")),\n",
    "    'zcr': lambda df: check_numeric_range(df, column='zcr', start=0.0, end=float(\"inf\")),\n",
    "    'flatness': lambda df: check_numeric_range(df, column='flatness', start=0.0, end=float(\"inf\")),\n",
    "    'spectral_complexity':lambda df: check_numeric_range(df, column='spectral_complexity', start=0.0, end=float(\"inf\")),\n",
    "    'pitch':lambda df: check_numeric_range(df, column='pitch', start=0.0, end=float(\"inf\")),\n",
    "    'loudness':lambda df: check_numeric_range(df, column='loudness', start=0.0, end=float(\"inf\")),\n",
    "    'album_release_date': lambda df: check_date(df, column='album_release_date', date_min='1920-01-01'),\n",
    "    'disc_number': lambda df: check_numeric_range(df, column='disc_number', start=0., end=1e6),\n",
    "    'track_number':lambda df: check_numeric_range(df, column='track_number', start=0, end=1e6),\n",
    "    'duration_ms':lambda df: check_numeric_range(df, column='duration_ms', start=0, end=1e12),\n",
    "    'popularity':lambda df: check_numeric_range(df, column='popularity', start=0, end=1e12)\n",
    "}\n",
    "\n",
    "\n",
    "tracks_reporter = DataQualityReporter(tracks_df,tracks_validators, ['swear_IT_words', 'swear_EN_words'])\n",
    "tracks_reporter.compute_report()\n",
    "tracks_reporter.report_duplicated_rows()\n",
    "tracks_reporter[\"missing_values\"]"
   ]
  },
  {
   "cell_type": "code",
   "execution_count": 93,
   "id": "26bf5577",
   "metadata": {},
   "outputs": [
    {
     "name": "stdout",
     "output_type": "stream",
     "text": [
      "['year', 'popularity']\n"
     ]
    }
   ],
   "source": [
    "tracks_reporter.report_invalid_values()"
   ]
  },
  {
   "cell_type": "code",
   "execution_count": 94,
   "id": "aaf66858",
   "metadata": {},
   "outputs": [
    {
     "name": "stdout",
     "output_type": "stream",
     "text": [
      "Feature year has 1340 invalid values\n",
      "Feature popularity has 28 invalid values\n",
      "304\n"
     ]
    },
    {
     "data": {
      "text/plain": [
       "1036"
      ]
     },
     "execution_count": 94,
     "metadata": {},
     "output_type": "execute_result"
    }
   ],
   "source": [
    "print(f\"Feature year has {len(tracks_reporter['invalid']['year'])} invalid values\")\n",
    "print(f\"Feature popularity has {len(tracks_reporter['invalid']['popularity'])} invalid values\")\n",
    "\n",
    "print(len(list(filter(lambda x: \"large\" not in x[1], tracks_reporter['invalid']['year']))))\n",
    "len(list(filter(lambda x: \"large\" in x[1], tracks_reporter['invalid']['year'])))"
   ]
  },
  {
   "cell_type": "markdown",
   "id": "12f2ada2",
   "metadata": {},
   "source": [
    "Gender distribution"
   ]
  },
  {
   "cell_type": "code",
   "execution_count": 96,
   "id": "63a0254e",
   "metadata": {},
   "outputs": [
    {
     "data": {
      "text/plain": [
       "<Axes: title={'center': 'gender distribution'}, xlabel='gender'>"
      ]
     },
     "execution_count": 96,
     "metadata": {},
     "output_type": "execute_result"
    },
    {
     "data": {
      "image/png": "[encoded data removed]",
      "text/plain": [
       "<Figure size 640x480 with 1 Axes>"
      ]
     },
     "metadata": {},
     "output_type": "display_data"
    }
   ],
   "source": [
    "artists_df['gender'].value_counts().plot(kind='bar',\n",
    "                                   title='gender distribution')"
   ]
  },
  {
   "cell_type": "markdown",
   "id": "60a81c7c",
   "metadata": {},
   "source": [
    "Nationality distribution"
   ]
  },
  {
   "cell_type": "code",
   "execution_count": 97,
   "id": "1058fd64",
   "metadata": {},
   "outputs": [
    {
     "data": {
      "text/plain": [
       "<Axes: title={'center': 'nationality distribution'}, xlabel='nationality'>"
      ]
     },
     "execution_count": 97,
     "metadata": {},
     "output_type": "execute_result"
    },
    {
     "data": {
      "image/png": "[encoded data removed]",
      "text/plain": [
       "<Figure size 640x480 with 1 Axes>"
      ]
     },
     "metadata": {},
     "output_type": "display_data"
    }
   ],
   "source": [
    "artists_df['nationality'].value_counts().plot(kind='bar',\n",
    "                                   title='nationality distribution')"
   ]
  },
  {
   "cell_type": "code",
   "execution_count": 98,
   "id": "3376f8eb",
   "metadata": {},
   "outputs": [
    {
     "data": {
      "text/plain": [
       "<seaborn.axisgrid.FacetGrid at 0x7966c8159d90>"
      ]
     },
     "execution_count": 98,
     "metadata": {},
     "output_type": "execute_result"
    },
    {
     "data": {
      "image/png": "[encoded data removed]",
      "text/plain": [
       "<Figure size 500x500 with 1 Axes>"
      ]
     },
     "metadata": {},
     "output_type": "display_data"
    }
   ],
   "source": [
    "sns.displot(artists_df, \n",
    "            x=\"birth_date\", \n",
    "            kind=\"hist\",\n",
    "            row_order=\"desc\",\n",
    "            bins=20,\n",
    "            color=\"skyblue\")"
   ]
  },
  {
   "cell_type": "code",
   "execution_count": 99,
   "id": "21dcaee9",
   "metadata": {},
   "outputs": [
    {
     "data": {
      "text/plain": [
       "<seaborn.axisgrid.FacetGrid at 0x7966be6f38d0>"
      ]
     },
     "execution_count": 99,
     "metadata": {},
     "output_type": "execute_result"
    },
    {
     "data": {
      "image/png": "[encoded data removed]",
      "text/plain": [
       "<Figure size 500x500 with 1 Axes>"
      ]
     },
     "metadata": {},
     "output_type": "display_data"
    }
   ],
   "source": [
    "sns.displot(artists_df, \n",
    "            x=\"active_start\", \n",
    "            kind=\"hist\",\n",
    "            row_order=\"desc\",\n",
    "            bins=20,\n",
    "            color=\"skyblue\")"
   ]
  },
  {
   "cell_type": "code",
   "execution_count": 100,
   "id": "7a2fd550",
   "metadata": {},
   "outputs": [
    {
     "data": {
      "text/plain": [
       "np.float64(0.3886132084092524)"
      ]
     },
     "execution_count": 100,
     "metadata": {},
     "output_type": "execute_result"
    }
   ],
   "source": [
    "artists_df['birth_date'].corr(artists_df['active_start']) "
   ]
  },
  {
   "cell_type": "code",
   "execution_count": 101,
   "id": "6ba468e0",
   "metadata": {},
   "outputs": [
    {
     "data": {
      "text/plain": [
       "<Axes: xlabel='birth_date', ylabel='active_start'>"
      ]
     },
     "execution_count": 101,
     "metadata": {},
     "output_type": "execute_result"
    },
    {
     "data": {
      "image/png": "[encoded data removed]",
      "text/plain": [
       "<Figure size 640x480 with 1 Axes>"
      ]
     },
     "metadata": {},
     "output_type": "display_data"
    }
   ],
   "source": [
    "sns.scatterplot(data=artists_df, x=\"birth_date\", y=\"active_start\")"
   ]
  },
  {
   "cell_type": "code",
   "execution_count": 107,
   "id": "f1975caa",
   "metadata": {},
   "outputs": [
    {
     "ename": "ImportError",
     "evalue": "cannot import name 'mapping_province' from 'utils' (/home/marco/Documenti/data_mining/data_understanding/utils.py)",
     "output_type": "error",
     "traceback": [
      "\u001b[31m---------------------------------------------------------------------------\u001b[39m",
      "\u001b[31mImportError\u001b[39m                               Traceback (most recent call last)",
      "\u001b[36mCell\u001b[39m\u001b[36m \u001b[39m\u001b[32mIn[107]\u001b[39m\u001b[32m, line 1\u001b[39m\n\u001b[32m----> \u001b[39m\u001b[32m1\u001b[39m \u001b[38;5;28;01mfrom\u001b[39;00m \u001b[34;01mutils\u001b[39;00m \u001b[38;5;28;01mimport\u001b[39;00m mapping_province\n\u001b[32m      2\u001b[39m artists_df[\u001b[33m\"\u001b[39m\u001b[33mprovince\u001b[39m\u001b[33m\"\u001b[39m].map(mapping_province)\n",
      "\u001b[31mImportError\u001b[39m: cannot import name 'mapping_province' from 'utils' (/home/marco/Documenti/data_mining/data_understanding/utils.py)"
     ]
    }
   ],
   "source": [
    "from utils import mapping_province\n",
    "artists_df[\"province\"].map(mapping_province)"
   ]
  },
  {
   "cell_type": "code",
   "execution_count": 108,
   "id": "680b4ca5",
   "metadata": {},
   "outputs": [
    {
     "data": {
      "text/plain": [
       "<seaborn.axisgrid.FacetGrid at 0x7966bcb1bc10>"
      ]
     },
     "execution_count": 108,
     "metadata": {},
     "output_type": "execute_result"
    },
    {
     "data": {
      "image/png": "[encoded data removed]",
      "text/plain": [
       "<Figure size 600x600 with 1 Axes>"
      ]
     },
     "metadata": {},
     "output_type": "display_data"
    }
   ],
   "source": [
    "sns.displot(artists_df, \n",
    "            x=\"region\", \n",
    "            kind=\"hist\",\n",
    "            row_order=\"desc\",\n",
    "            color=\"skyblue\",\n",
    "            height=6)"
   ]
  },
  {
   "cell_type": "code",
   "execution_count": null,
   "id": "0492f73b",
   "metadata": {},
   "outputs": [],
   "source": [
    "sns.displot(artists_df, \n",
    "            x=\"region\", \n",
    "            kind=\"hist\",\n",
    "            row_order=\"desc\",\n",
    "            color=\"skyblue\",\n",
    "            height=6)"
   ]
  }
 ],
 "metadata": {
  "kernelspec": {
   "display_name": "Python 3.11.11 64-bit",
   "language": "python",
   "name": "python3"
  },
  "language_info": {
   "codemirror_mode": {
    "name": "ipython",
    "version": 3
   },
   "file_extension": ".py",
   "mimetype": "text/x-python",
   "name": "python",
   "nbconvert_exporter": "python",
   "pygments_lexer": "ipython3",
   "version": "3.11.11"
  },
  "vscode": {
   "interpreter": {
    "hash": "ead1b95f633dc9c51826328e1846203f51a198c6fb5f2884a80417ba131d4e82"
   }
  }
 },
 "nbformat": 4,
 "nbformat_minor": 5
}
