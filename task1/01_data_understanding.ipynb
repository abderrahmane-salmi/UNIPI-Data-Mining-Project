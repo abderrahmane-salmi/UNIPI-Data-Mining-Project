{
 "cells": [
  {
   "cell_type": "markdown",
   "id": "d4ab7a75",
   "metadata": {},
   "source": [
    "# Task 1.1 Data Understanding"
   ]
  },
  {
   "cell_type": "markdown",
   "id": "947bc7ce",
   "metadata": {},
   "source": [
    "**Authors:** Abderrahmane Salmi, Ricardo Talarico, Lorenzo Allegrini"
   ]
  },
  {
   "cell_type": "markdown",
   "id": "10107846",
   "metadata": {},
   "source": [
    "Import Libraries & Load Datasets"
   ]
  },
  {
   "cell_type": "code",
   "execution_count": 1,
   "id": "26ef9448",
   "metadata": {},
   "outputs": [],
   "source": [
    "import math\n",
    "import numpy as np\n",
    "import pandas as pd\n",
    "import scipy.stats as stats\n",
    "import matplotlib.pyplot as plt\n",
    "import seaborn as sns"
   ]
  },
  {
   "cell_type": "code",
   "execution_count": 11,
   "id": "e6633ea8",
   "metadata": {},
   "outputs": [],
   "source": [
    "tracks_df = pd.read_csv('../datasets/tracks.csv')\n",
    "artists_df = pd.read_csv('../datasets/artists.csv', sep=';')"
   ]
  },
  {
   "cell_type": "markdown",
   "id": "00ef5e5a",
   "metadata": {},
   "source": [
    "Initial Inspection"
   ]
  },
  {
   "cell_type": "code",
   "execution_count": null,
   "id": "f26016f4",
   "metadata": {},
   "outputs": [
    {
     "data": {
      "text/html": [
       "<div>\n",
       "<style scoped>\n",
       "    .dataframe tbody tr th:only-of-type {\n",
       "        vertical-align: middle;\n",
       "    }\n",
       "\n",
       "    .dataframe tbody tr th {\n",
       "        vertical-align: top;\n",
       "    }\n",
       "\n",
       "    .dataframe thead th {\n",
       "        text-align: right;\n",
       "    }\n",
       "</style>\n",
       "<table border=\"1\" class=\"dataframe\">\n",
       "  <thead>\n",
       "    <tr style=\"text-align: right;\">\n",
       "      <th></th>\n",
       "      <th>id</th>\n",
       "      <th>id_artist</th>\n",
       "      <th>name_artist</th>\n",
       "      <th>full_title</th>\n",
       "      <th>title</th>\n",
       "      <th>featured_artists</th>\n",
       "      <th>primary_artist</th>\n",
       "      <th>language</th>\n",
       "      <th>album</th>\n",
       "      <th>stats_pageviews</th>\n",
       "      <th>...</th>\n",
       "      <th>album_type</th>\n",
       "      <th>disc_number</th>\n",
       "      <th>track_number</th>\n",
       "      <th>duration_ms</th>\n",
       "      <th>explicit</th>\n",
       "      <th>popularity</th>\n",
       "      <th>album_image</th>\n",
       "      <th>id_album</th>\n",
       "      <th>lyrics</th>\n",
       "      <th>modified_popularity</th>\n",
       "    </tr>\n",
       "  </thead>\n",
       "  <tbody>\n",
       "    <tr>\n",
       "      <th>0</th>\n",
       "      <td>TR934808</td>\n",
       "      <td>ART04205421</td>\n",
       "      <td>Rosa Chemical</td>\n",
       "      <td>​polka 2 :-/ by Rosa Chemical (Ft. Ernia &amp; Guè)</td>\n",
       "      <td>​polka 2 :-/</td>\n",
       "      <td>Ernia, Guè</td>\n",
       "      <td>Rosa Chemical</td>\n",
       "      <td>pl</td>\n",
       "      <td>FOREVER AND EVER</td>\n",
       "      <td>196033.0</td>\n",
       "      <td>...</td>\n",
       "      <td>album</td>\n",
       "      <td>1.0</td>\n",
       "      <td>3.0</td>\n",
       "      <td>207761.0</td>\n",
       "      <td>True</td>\n",
       "      <td>46.0</td>\n",
       "      <td>https://i.scdn.co/image/ab67616d0000b2736d5e14...</td>\n",
       "      <td>ALB115557</td>\n",
       "      <td>Oplà, ah\\nBdope, chiama due b—\\n\\nMi candidere...</td>\n",
       "      <td>False</td>\n",
       "    </tr>\n",
       "    <tr>\n",
       "      <th>1</th>\n",
       "      <td>TR760029</td>\n",
       "      <td>ART04205421</td>\n",
       "      <td>Rosa Chemical</td>\n",
       "      <td>POLKA by Rosa Chemical (Ft. Thelonious B.)</td>\n",
       "      <td>POLKA</td>\n",
       "      <td>Thelonious B.</td>\n",
       "      <td>Rosa Chemical</td>\n",
       "      <td>en</td>\n",
       "      <td>FOREVER AND EVER</td>\n",
       "      <td>164450.0</td>\n",
       "      <td>...</td>\n",
       "      <td>album</td>\n",
       "      <td>1.0</td>\n",
       "      <td>3.0</td>\n",
       "      <td>207761.0</td>\n",
       "      <td>True</td>\n",
       "      <td>46.0</td>\n",
       "      <td>https://i.scdn.co/image/ab67616d0000b2736d5e14...</td>\n",
       "      <td>ALB115557</td>\n",
       "      <td>Greg Willen, non dormire\\n(Brr-poh)\\n\\nT-T-Tro...</td>\n",
       "      <td>False</td>\n",
       "    </tr>\n",
       "    <tr>\n",
       "      <th>2</th>\n",
       "      <td>TR916821</td>\n",
       "      <td>ART04205421</td>\n",
       "      <td>Rosa Chemical</td>\n",
       "      <td>​britney ;-) by Rosa Chemical (Ft. MamboLosco ...</td>\n",
       "      <td>​britney ;-)</td>\n",
       "      <td>MamboLosco, RADICAL</td>\n",
       "      <td>Rosa Chemical</td>\n",
       "      <td>en</td>\n",
       "      <td>FOREVER AND EVER</td>\n",
       "      <td>58313.0</td>\n",
       "      <td>...</td>\n",
       "      <td>album</td>\n",
       "      <td>1.0</td>\n",
       "      <td>1.0</td>\n",
       "      <td>193544.0</td>\n",
       "      <td>True</td>\n",
       "      <td>39.0</td>\n",
       "      <td>https://i.scdn.co/image/ab67616d0000b2736d5e14...</td>\n",
       "      <td>ALB115557</td>\n",
       "      <td>Mothz\\nYeah, yeah, yeah-yeah\\nBdope, chiama du...</td>\n",
       "      <td>False</td>\n",
       "    </tr>\n",
       "    <tr>\n",
       "      <th>3</th>\n",
       "      <td>TR480968</td>\n",
       "      <td>ART04205421</td>\n",
       "      <td>Rosa Chemical</td>\n",
       "      <td>CEO by Rosa Chemical (Ft. Taxi B)</td>\n",
       "      <td>CEO</td>\n",
       "      <td>Taxi B</td>\n",
       "      <td>Rosa Chemical</td>\n",
       "      <td>it</td>\n",
       "      <td>OKAY OKAY !! - EP</td>\n",
       "      <td>39890.0</td>\n",
       "      <td>...</td>\n",
       "      <td>single</td>\n",
       "      <td>1.0</td>\n",
       "      <td>2.0</td>\n",
       "      <td>169000.0</td>\n",
       "      <td>True</td>\n",
       "      <td>47.0</td>\n",
       "      <td>https://i.scdn.co/image/ab67616d0000b27367c03d...</td>\n",
       "      <td>ALB730959</td>\n",
       "      <td>Designer sui vestiti penso di essere un outlet...</td>\n",
       "      <td>False</td>\n",
       "    </tr>\n",
       "    <tr>\n",
       "      <th>4</th>\n",
       "      <td>TR585039</td>\n",
       "      <td>ART04205421</td>\n",
       "      <td>Rosa Chemical</td>\n",
       "      <td>LONDRA by Rosa Chemical (Ft. Rkomi)</td>\n",
       "      <td>LONDRA</td>\n",
       "      <td>Rkomi</td>\n",
       "      <td>Rosa Chemical</td>\n",
       "      <td>en</td>\n",
       "      <td>FOREVER AND EVER</td>\n",
       "      <td>35432.0</td>\n",
       "      <td>...</td>\n",
       "      <td>album</td>\n",
       "      <td>1.0</td>\n",
       "      <td>8.0</td>\n",
       "      <td>194779.0</td>\n",
       "      <td>True</td>\n",
       "      <td>41.0</td>\n",
       "      <td>https://i.scdn.co/image/ab67616d0000b273fcdb60...</td>\n",
       "      <td>ALB436151</td>\n",
       "      <td>Bdope (Yeah)\\n\\nVuole solo me, non fare la gel...</td>\n",
       "      <td>False</td>\n",
       "    </tr>\n",
       "  </tbody>\n",
       "</table>\n",
       "<p>5 rows × 45 columns</p>\n",
       "</div>"
      ],
      "text/plain": [
       "         id    id_artist    name_artist  \\\n",
       "0  TR934808  ART04205421  Rosa Chemical   \n",
       "1  TR760029  ART04205421  Rosa Chemical   \n",
       "2  TR916821  ART04205421  Rosa Chemical   \n",
       "3  TR480968  ART04205421  Rosa Chemical   \n",
       "4  TR585039  ART04205421  Rosa Chemical   \n",
       "\n",
       "                                          full_title         title  \\\n",
       "0    ​polka 2 :-/ by Rosa Chemical (Ft. Ernia & Guè)  ​polka 2 :-/   \n",
       "1         POLKA by Rosa Chemical (Ft. Thelonious B.)         POLKA   \n",
       "2  ​britney ;-) by Rosa Chemical (Ft. MamboLosco ...  ​britney ;-)   \n",
       "3                  CEO by Rosa Chemical (Ft. Taxi B)           CEO   \n",
       "4                LONDRA by Rosa Chemical (Ft. Rkomi)        LONDRA   \n",
       "\n",
       "      featured_artists primary_artist language              album  \\\n",
       "0           Ernia, Guè  Rosa Chemical       pl   FOREVER AND EVER   \n",
       "1        Thelonious B.  Rosa Chemical       en   FOREVER AND EVER   \n",
       "2  MamboLosco, RADICAL  Rosa Chemical       en   FOREVER AND EVER   \n",
       "3               Taxi B  Rosa Chemical       it  OKAY OKAY !! - EP   \n",
       "4                Rkomi  Rosa Chemical       en   FOREVER AND EVER   \n",
       "\n",
       "   stats_pageviews  ...  album_type  disc_number track_number duration_ms  \\\n",
       "0         196033.0  ...       album          1.0          3.0    207761.0   \n",
       "1         164450.0  ...       album          1.0          3.0    207761.0   \n",
       "2          58313.0  ...       album          1.0          1.0    193544.0   \n",
       "3          39890.0  ...      single          1.0          2.0    169000.0   \n",
       "4          35432.0  ...       album          1.0          8.0    194779.0   \n",
       "\n",
       "  explicit  popularity                                        album_image  \\\n",
       "0     True        46.0  https://i.scdn.co/image/ab67616d0000b2736d5e14...   \n",
       "1     True        46.0  https://i.scdn.co/image/ab67616d0000b2736d5e14...   \n",
       "2     True        39.0  https://i.scdn.co/image/ab67616d0000b2736d5e14...   \n",
       "3     True        47.0  https://i.scdn.co/image/ab67616d0000b27367c03d...   \n",
       "4     True        41.0  https://i.scdn.co/image/ab67616d0000b273fcdb60...   \n",
       "\n",
       "    id_album                                             lyrics  \\\n",
       "0  ALB115557  Oplà, ah\\nBdope, chiama due b—\\n\\nMi candidere...   \n",
       "1  ALB115557  Greg Willen, non dormire\\n(Brr-poh)\\n\\nT-T-Tro...   \n",
       "2  ALB115557  Mothz\\nYeah, yeah, yeah-yeah\\nBdope, chiama du...   \n",
       "3  ALB730959  Designer sui vestiti penso di essere un outlet...   \n",
       "4  ALB436151  Bdope (Yeah)\\n\\nVuole solo me, non fare la gel...   \n",
       "\n",
       "   modified_popularity  \n",
       "0                False  \n",
       "1                False  \n",
       "2                False  \n",
       "3                False  \n",
       "4                False  \n",
       "\n",
       "[5 rows x 45 columns]"
      ]
     },
     "execution_count": 13,
     "metadata": {},
     "output_type": "execute_result"
    }
   ],
   "source": [
    "# First few tracks\n",
    "tracks_df.head()"
   ]
  },
  {
   "cell_type": "code",
   "execution_count": null,
   "id": "7c74c082",
   "metadata": {},
   "outputs": [
    {
     "data": {
      "text/html": [
       "<div>\n",
       "<style scoped>\n",
       "    .dataframe tbody tr th:only-of-type {\n",
       "        vertical-align: middle;\n",
       "    }\n",
       "\n",
       "    .dataframe tbody tr th {\n",
       "        vertical-align: top;\n",
       "    }\n",
       "\n",
       "    .dataframe thead th {\n",
       "        text-align: right;\n",
       "    }\n",
       "</style>\n",
       "<table border=\"1\" class=\"dataframe\">\n",
       "  <thead>\n",
       "    <tr style=\"text-align: right;\">\n",
       "      <th></th>\n",
       "      <th>id_author</th>\n",
       "      <th>name</th>\n",
       "      <th>gender</th>\n",
       "      <th>birth_date</th>\n",
       "      <th>birth_place</th>\n",
       "      <th>nationality</th>\n",
       "      <th>description</th>\n",
       "      <th>active_start</th>\n",
       "      <th>active_end</th>\n",
       "      <th>province</th>\n",
       "      <th>region</th>\n",
       "      <th>country</th>\n",
       "      <th>latitude</th>\n",
       "      <th>longitude</th>\n",
       "    </tr>\n",
       "  </thead>\n",
       "  <tbody>\n",
       "    <tr>\n",
       "      <th>0</th>\n",
       "      <td>ART82291002</td>\n",
       "      <td>99 posse</td>\n",
       "      <td>M</td>\n",
       "      <td>NaN</td>\n",
       "      <td>NaN</td>\n",
       "      <td>NaN</td>\n",
       "      <td>gruppo musicale italiano</td>\n",
       "      <td>1991-01-01</td>\n",
       "      <td>NaN</td>\n",
       "      <td>NaN</td>\n",
       "      <td>NaN</td>\n",
       "      <td>NaN</td>\n",
       "      <td>NaN</td>\n",
       "      <td>NaN</td>\n",
       "    </tr>\n",
       "    <tr>\n",
       "      <th>1</th>\n",
       "      <td>ART53496045</td>\n",
       "      <td>achille lauro</td>\n",
       "      <td>M</td>\n",
       "      <td>1990-07-11</td>\n",
       "      <td>Verona</td>\n",
       "      <td>Italia</td>\n",
       "      <td>cantautore e rapper italiano (1990-)</td>\n",
       "      <td>2012-01-01</td>\n",
       "      <td>NaN</td>\n",
       "      <td>Verona</td>\n",
       "      <td>Veneto</td>\n",
       "      <td>Italia</td>\n",
       "      <td>45.442498</td>\n",
       "      <td>10.985738</td>\n",
       "    </tr>\n",
       "    <tr>\n",
       "      <th>2</th>\n",
       "      <td>ART18853907</td>\n",
       "      <td>alfa</td>\n",
       "      <td>M</td>\n",
       "      <td>NaN</td>\n",
       "      <td>NaN</td>\n",
       "      <td>NaN</td>\n",
       "      <td>NaN</td>\n",
       "      <td>NaN</td>\n",
       "      <td>NaN</td>\n",
       "      <td>NaN</td>\n",
       "      <td>NaN</td>\n",
       "      <td>NaN</td>\n",
       "      <td>NaN</td>\n",
       "      <td>NaN</td>\n",
       "    </tr>\n",
       "    <tr>\n",
       "      <th>3</th>\n",
       "      <td>ART64265460</td>\n",
       "      <td>anna pepe</td>\n",
       "      <td>F</td>\n",
       "      <td>NaN</td>\n",
       "      <td>NaN</td>\n",
       "      <td>NaN</td>\n",
       "      <td>NaN</td>\n",
       "      <td>NaN</td>\n",
       "      <td>NaN</td>\n",
       "      <td>NaN</td>\n",
       "      <td>NaN</td>\n",
       "      <td>NaN</td>\n",
       "      <td>NaN</td>\n",
       "      <td>NaN</td>\n",
       "    </tr>\n",
       "    <tr>\n",
       "      <th>4</th>\n",
       "      <td>ART75741740</td>\n",
       "      <td>articolo 31</td>\n",
       "      <td>M</td>\n",
       "      <td>NaN</td>\n",
       "      <td>NaN</td>\n",
       "      <td>NaN</td>\n",
       "      <td>gruppo musicale hip hop italiano</td>\n",
       "      <td>1990-01-01</td>\n",
       "      <td>NaN</td>\n",
       "      <td>NaN</td>\n",
       "      <td>NaN</td>\n",
       "      <td>NaN</td>\n",
       "      <td>NaN</td>\n",
       "      <td>NaN</td>\n",
       "    </tr>\n",
       "  </tbody>\n",
       "</table>\n",
       "</div>"
      ],
      "text/plain": [
       "     id_author           name gender  birth_date birth_place nationality  \\\n",
       "0  ART82291002       99 posse      M         NaN         NaN         NaN   \n",
       "1  ART53496045  achille lauro      M  1990-07-11      Verona      Italia   \n",
       "2  ART18853907           alfa      M         NaN         NaN         NaN   \n",
       "3  ART64265460      anna pepe      F         NaN         NaN         NaN   \n",
       "4  ART75741740    articolo 31      M         NaN         NaN         NaN   \n",
       "\n",
       "                            description active_start  active_end province  \\\n",
       "0              gruppo musicale italiano   1991-01-01         NaN      NaN   \n",
       "1  cantautore e rapper italiano (1990-)   2012-01-01         NaN   Verona   \n",
       "2                                   NaN          NaN         NaN      NaN   \n",
       "3                                   NaN          NaN         NaN      NaN   \n",
       "4      gruppo musicale hip hop italiano   1990-01-01         NaN      NaN   \n",
       "\n",
       "   region country   latitude  longitude  \n",
       "0     NaN     NaN        NaN        NaN  \n",
       "1  Veneto  Italia  45.442498  10.985738  \n",
       "2     NaN     NaN        NaN        NaN  \n",
       "3     NaN     NaN        NaN        NaN  \n",
       "4     NaN     NaN        NaN        NaN  "
      ]
     },
     "execution_count": 14,
     "metadata": {},
     "output_type": "execute_result"
    }
   ],
   "source": [
    "# First few artists\n",
    "artists_df.head()"
   ]
  },
  {
   "cell_type": "markdown",
   "id": "1ab47163",
   "metadata": {},
   "source": [
    "Feature Summary"
   ]
  },
  {
   "cell_type": "code",
   "execution_count": 16,
   "id": "96be384e",
   "metadata": {},
   "outputs": [
    {
     "name": "stdout",
     "output_type": "stream",
     "text": [
      "Tracks dataset shape: (11166, 45)\n",
      "<class 'pandas.core.frame.DataFrame'>\n",
      "RangeIndex: 11166 entries, 0 to 11165\n",
      "Data columns (total 45 columns):\n",
      " #   Column                Non-Null Count  Dtype  \n",
      "---  ------                --------------  -----  \n",
      " 0   id                    11166 non-null  object \n",
      " 1   id_artist             11166 non-null  object \n",
      " 2   name_artist           11166 non-null  object \n",
      " 3   full_title            11166 non-null  object \n",
      " 4   title                 11166 non-null  object \n",
      " 5   featured_artists      3517 non-null   object \n",
      " 6   primary_artist        11166 non-null  object \n",
      " 7   language              11061 non-null  object \n",
      " 8   album                 9652 non-null   object \n",
      " 9   stats_pageviews       4642 non-null   float64\n",
      " 10  swear_IT              11166 non-null  int64  \n",
      " 11  swear_EN              11166 non-null  int64  \n",
      " 12  swear_IT_words        11166 non-null  object \n",
      " 13  swear_EN_words        11166 non-null  object \n",
      " 14  year                  10766 non-null  object \n",
      " 15  month                 9969 non-null   float64\n",
      " 16  day                   9843 non-null   float64\n",
      " 17  n_sentences           11090 non-null  float64\n",
      " 18  n_tokens              11090 non-null  float64\n",
      " 19  tokens_per_sent       11090 non-null  float64\n",
      " 20  char_per_tok          11090 non-null  float64\n",
      " 21  lexical_density       11090 non-null  float64\n",
      " 22  avg_token_per_clause  11090 non-null  float64\n",
      " 23  bpm                   11102 non-null  float64\n",
      " 24  centroid              11102 non-null  float64\n",
      " 25  rolloff               11102 non-null  float64\n",
      " 26  flux                  11102 non-null  float64\n",
      " 27  rms                   11102 non-null  float64\n",
      " 28  zcr                   11102 non-null  float64\n",
      " 29  flatness              11102 non-null  float64\n",
      " 30  spectral_complexity   11102 non-null  float64\n",
      " 31  pitch                 11102 non-null  float64\n",
      " 32  loudness              11102 non-null  float64\n",
      " 33  album_name            11088 non-null  object \n",
      " 34  album_release_date    11088 non-null  object \n",
      " 35  album_type            11088 non-null  object \n",
      " 36  disc_number           11088 non-null  float64\n",
      " 37  track_number          11088 non-null  float64\n",
      " 38  duration_ms           11088 non-null  float64\n",
      " 39  explicit              11088 non-null  object \n",
      " 40  popularity            11164 non-null  object \n",
      " 41  album_image           11088 non-null  object \n",
      " 42  id_album              11088 non-null  object \n",
      " 43  lyrics                11163 non-null  object \n",
      " 44  modified_popularity   11166 non-null  bool   \n",
      "dtypes: bool(1), float64(22), int64(2), object(20)\n",
      "memory usage: 3.8+ MB\n"
     ]
    }
   ],
   "source": [
    "# Dataset shape\n",
    "print(\"Tracks dataset shape:\", tracks_df.shape)\n",
    "\n",
    "# Info summary\n",
    "tracks_df.info()"
   ]
  },
  {
   "cell_type": "code",
   "execution_count": 17,
   "id": "13fc86e2",
   "metadata": {},
   "outputs": [
    {
     "name": "stdout",
     "output_type": "stream",
     "text": [
      "Artists dataset shape: (104, 14)\n",
      "<class 'pandas.core.frame.DataFrame'>\n",
      "RangeIndex: 104 entries, 0 to 103\n",
      "Data columns (total 14 columns):\n",
      " #   Column        Non-Null Count  Dtype  \n",
      "---  ------        --------------  -----  \n",
      " 0   id_author     104 non-null    object \n",
      " 1   name          104 non-null    object \n",
      " 2   gender        104 non-null    object \n",
      " 3   birth_date    73 non-null     object \n",
      " 4   birth_place   72 non-null     object \n",
      " 5   nationality   71 non-null     object \n",
      " 6   description   86 non-null     object \n",
      " 7   active_start  50 non-null     object \n",
      " 8   active_end    0 non-null      float64\n",
      " 9   province      70 non-null     object \n",
      " 10  region        68 non-null     object \n",
      " 11  country       70 non-null     object \n",
      " 12  latitude      72 non-null     float64\n",
      " 13  longitude     72 non-null     float64\n",
      "dtypes: float64(3), object(11)\n",
      "memory usage: 11.5+ KB\n"
     ]
    }
   ],
   "source": [
    "# Same thing for artists\n",
    "print(\"Artists dataset shape:\", artists_df.shape)\n",
    "artists_df.info()"
   ]
  },
  {
   "cell_type": "code",
   "execution_count": 18,
   "id": "6fda0d84",
   "metadata": {},
   "outputs": [
    {
     "data": {
      "text/plain": [
       "full_title              11164\n",
       "lyrics                  11153\n",
       "id                      11093\n",
       "rolloff                 10785\n",
       "pitch                   10782\n",
       "spectral_complexity     10579\n",
       "loudness                10561\n",
       "title                   10521\n",
       "char_per_tok             9844\n",
       "duration_ms              7910\n",
       "lexical_density          7761\n",
       "avg_token_per_clause     7569\n",
       "tokens_per_sent          6877\n",
       "flux                     4633\n",
       "stats_pageviews          4422\n",
       "bpm                      4119\n",
       "id_album                 3061\n",
       "rms                      2775\n",
       "swear_IT_words           2659\n",
       "flatness                 2536\n",
       "album_image              2486\n",
       "album_name               2421\n",
       "featured_artists         1740\n",
       "centroid                 1450\n",
       "album_release_date       1390\n",
       "n_tokens                 1063\n",
       "zcr                       970\n",
       "album                     890\n",
       "swear_EN_words            535\n",
       "year                      195\n",
       "n_sentences               176\n",
       "popularity                170\n",
       "id_artist                 104\n",
       "name_artist               104\n",
       "primary_artist            104\n",
       "swear_IT                   44\n",
       "swear_EN                   40\n",
       "track_number               39\n",
       "language                   35\n",
       "day                        31\n",
       "month                      12\n",
       "disc_number                 5\n",
       "album_type                  3\n",
       "explicit                    2\n",
       "modified_popularity         2\n",
       "dtype: int64"
      ]
     },
     "execution_count": 18,
     "metadata": {},
     "output_type": "execute_result"
    }
   ],
   "source": [
    "# Quick look at number of unique values per column (to understand categorical vars)\n",
    "tracks_df.nunique().sort_values(ascending=False)"
   ]
  },
  {
   "cell_type": "code",
   "execution_count": 19,
   "id": "f9a1ffca",
   "metadata": {},
   "outputs": [
    {
     "data": {
      "text/plain": [
       "id_author       104\n",
       "name            104\n",
       "birth_date       73\n",
       "description      69\n",
       "longitude        40\n",
       "birth_place      40\n",
       "latitude         40\n",
       "province         26\n",
       "active_start     24\n",
       "region           13\n",
       "nationality       2\n",
       "gender            2\n",
       "country           1\n",
       "active_end        0\n",
       "dtype: int64"
      ]
     },
     "execution_count": 19,
     "metadata": {},
     "output_type": "execute_result"
    }
   ],
   "source": [
    "# Quick look at number of unique values per column (to understand categorical vars)\n",
    "artists_df.nunique().sort_values(ascending=False)"
   ]
  },
  {
   "cell_type": "markdown",
   "id": "34e8a5f3",
   "metadata": {},
   "source": [
    "Missing Values Heatmap & Stats"
   ]
  },
  {
   "cell_type": "code",
   "execution_count": 20,
   "id": "f5d16df6",
   "metadata": {},
   "outputs": [
    {
     "name": "stdout",
     "output_type": "stream",
     "text": [
      "Tracks dataset missing values:\n",
      "featured_artists        7649\n",
      "stats_pageviews         6524\n",
      "album                   1514\n",
      "day                     1323\n",
      "month                   1197\n",
      "year                     400\n",
      "language                 105\n",
      "id_album                  78\n",
      "album_name                78\n",
      "album_image               78\n",
      "album_type                78\n",
      "album_release_date        78\n",
      "track_number              78\n",
      "explicit                  78\n",
      "duration_ms               78\n",
      "disc_number               78\n",
      "lexical_density           76\n",
      "tokens_per_sent           76\n",
      "n_tokens                  76\n",
      "char_per_tok              76\n",
      "n_sentences               76\n",
      "avg_token_per_clause      76\n",
      "flatness                  64\n",
      "flux                      64\n",
      "zcr                       64\n",
      "centroid                  64\n",
      "bpm                       64\n",
      "rolloff                   64\n",
      "rms                       64\n",
      "pitch                     64\n",
      "spectral_complexity       64\n",
      "loudness                  64\n",
      "lyrics                     3\n",
      "popularity                 2\n",
      "dtype: int64\n"
     ]
    }
   ],
   "source": [
    "# Missing values count\n",
    "tracks_missing = tracks_df.isnull().sum().sort_values(ascending=False)\n",
    "\n",
    "print(\"Tracks dataset missing values:\")\n",
    "print(tracks_missing[tracks_missing > 0])"
   ]
  },
  {
   "cell_type": "code",
   "execution_count": 21,
   "id": "e80f74fd",
   "metadata": {},
   "outputs": [
    {
     "name": "stdout",
     "output_type": "stream",
     "text": [
      "\n",
      "Artists dataset missing values:\n",
      "active_end      104\n",
      "active_start     54\n",
      "region           36\n",
      "province         34\n",
      "country          34\n",
      "nationality      33\n",
      "birth_place      32\n",
      "latitude         32\n",
      "longitude        32\n",
      "birth_date       31\n",
      "description      18\n",
      "dtype: int64\n"
     ]
    }
   ],
   "source": [
    "artists_missing = artists_df.isnull().sum().sort_values(ascending=False)\n",
    "\n",
    "print(\"\\nArtists dataset missing values:\")\n",
    "print(artists_missing[artists_missing > 0])"
   ]
  },
  {
   "cell_type": "code",
   "execution_count": null,
   "id": "7e78b118",
   "metadata": {},
   "outputs": [
    {
     "data": {
      "image/png": "[encoded data removed]",
      "text/plain": [
       "<Figure size 1400x600 with 1 Axes>"
      ]
     },
     "metadata": {},
     "output_type": "display_data"
    }
   ],
   "source": [
    "# Heatmap for missing data (tracks)\n",
    "plt.figure(figsize=(14,6))\n",
    "sns.heatmap(tracks_df.isnull(), cbar=False, cmap='viridis')\n",
    "plt.title(\"Missing values in all_tracks.csv\")\n",
    "plt.show()"
   ]
  },
  {
   "cell_type": "code",
   "execution_count": 23,
   "id": "1bbf63cf",
   "metadata": {},
   "outputs": [
    {
     "data": {
      "image/png": "[encoded data removed]",
      "text/plain": [
       "<Figure size 1000x500 with 1 Axes>"
      ]
     },
     "metadata": {},
     "output_type": "display_data"
    }
   ],
   "source": [
    "# Heatmap for missing data (artists)\n",
    "plt.figure(figsize=(10,5))\n",
    "sns.heatmap(artists_df.isnull(), cbar=False, cmap='viridis')\n",
    "plt.title(\"Missing values in artist.csv\")\n",
    "plt.show()"
   ]
  },
  {
   "cell_type": "markdown",
   "id": "b86afa8c",
   "metadata": {},
   "source": [
    "Duplicate Check"
   ]
  },
  {
   "cell_type": "code",
   "execution_count": 24,
   "id": "5f963474",
   "metadata": {},
   "outputs": [
    {
     "name": "stdout",
     "output_type": "stream",
     "text": [
      "Duplicate tracks: 0\n",
      "Duplicate artists: 0\n"
     ]
    }
   ],
   "source": [
    "# Check for duplicates\n",
    "print(\"Duplicate tracks:\", tracks_df.duplicated().sum())\n",
    "print(\"Duplicate artists:\", artists_df.duplicated().sum())"
   ]
  },
  {
   "cell_type": "markdown",
   "id": "7b0e1e9c",
   "metadata": {},
   "source": [
    "Data Type Review & Type Casting Plan"
   ]
  },
  {
   "cell_type": "code",
   "execution_count": 25,
   "id": "f045e10c",
   "metadata": {},
   "outputs": [
    {
     "data": {
      "text/plain": [
       "modified_popularity        bool\n",
       "swear_EN                  int64\n",
       "swear_IT                  int64\n",
       "lexical_density         float64\n",
       "bpm                     float64\n",
       "centroid                float64\n",
       "rolloff                 float64\n",
       "flux                    float64\n",
       "char_per_tok            float64\n",
       "rms                     float64\n",
       "flatness                float64\n",
       "spectral_complexity     float64\n",
       "pitch                   float64\n",
       "loudness                float64\n",
       "disc_number             float64\n",
       "track_number            float64\n",
       "duration_ms             float64\n",
       "zcr                     float64\n",
       "tokens_per_sent         float64\n",
       "avg_token_per_clause    float64\n",
       "n_sentences             float64\n",
       "day                     float64\n",
       "month                   float64\n",
       "stats_pageviews         float64\n",
       "n_tokens                float64\n",
       "id_album                 object\n",
       "album_image              object\n",
       "popularity               object\n",
       "explicit                 object\n",
       "id_artist                object\n",
       "name_artist              object\n",
       "full_title               object\n",
       "album_type               object\n",
       "album_release_date       object\n",
       "title                    object\n",
       "featured_artists         object\n",
       "primary_artist           object\n",
       "language                 object\n",
       "album                    object\n",
       "swear_IT_words           object\n",
       "swear_EN_words           object\n",
       "year                     object\n",
       "lyrics                   object\n",
       "album_name               object\n",
       "id                       object\n",
       "dtype: object"
      ]
     },
     "execution_count": 25,
     "metadata": {},
     "output_type": "execute_result"
    }
   ],
   "source": [
    "# Check data types\n",
    "tracks_df.dtypes.sort_values()"
   ]
  },
  {
   "cell_type": "code",
   "execution_count": 26,
   "id": "f8129c33",
   "metadata": {},
   "outputs": [
    {
     "data": {
      "text/plain": [
       "active_end      float64\n",
       "latitude        float64\n",
       "longitude       float64\n",
       "id_author        object\n",
       "name             object\n",
       "gender           object\n",
       "birth_date       object\n",
       "birth_place      object\n",
       "nationality      object\n",
       "description      object\n",
       "active_start     object\n",
       "province         object\n",
       "region           object\n",
       "country          object\n",
       "dtype: object"
      ]
     },
     "execution_count": 26,
     "metadata": {},
     "output_type": "execute_result"
    }
   ],
   "source": [
    "# Check data types\n",
    "artists_df.dtypes.sort_values()"
   ]
  },
  {
   "cell_type": "code",
   "execution_count": null,
   "id": "c66447af",
   "metadata": {},
   "outputs": [
    {
     "name": "stdout",
     "output_type": "stream",
     "text": [
      "\n",
      "--- TRACKS ---\n",
      "Top 5 rows with most missing fields (tracks):\n",
      "Row 3704: {'missing_count': np.int64(20), 'missing_pct': np.float64(0.444)}\n",
      "Row 3733: {'missing_count': np.int64(20), 'missing_pct': np.float64(0.444)}\n",
      "Row 3736: {'missing_count': np.int64(20), 'missing_pct': np.float64(0.444)}\n",
      "Row 3675: {'missing_count': np.int64(19), 'missing_pct': np.float64(0.422)}\n",
      "Row 3677: {'missing_count': np.int64(19), 'missing_pct': np.float64(0.422)}\n",
      "\n",
      "Tracks rows with more than 0.3 missing fields: 88\n",
      "\n",
      "--- ARTISTS ---\n",
      "Top 5 rows with most missing fields (artists):\n",
      "Row 2: {'missing_count': np.int64(11), 'missing_pct': np.float64(0.786)}\n",
      "Row 3: {'missing_count': np.int64(11), 'missing_pct': np.float64(0.786)}\n",
      "Row 11: {'missing_count': np.int64(11), 'missing_pct': np.float64(0.786)}\n",
      "Row 22: {'missing_count': np.int64(11), 'missing_pct': np.float64(0.786)}\n",
      "Row 24: {'missing_count': np.int64(11), 'missing_pct': np.float64(0.786)}\n",
      "\n",
      "Artist rows with more than 0.4 missing fields: 32\n"
     ]
    }
   ],
   "source": [
    "# === Function to generate missing info dictionary ===\n",
    "def get_missing_info(df, threshold):\n",
    "    row_missing = {}\n",
    "    for idx in df.index:\n",
    "        missing_count = df.loc[idx].isnull().sum()\n",
    "        if missing_count > 0:\n",
    "            row_missing[idx] = {\n",
    "                'missing_count': missing_count,\n",
    "                'missing_pct': round(missing_count / len(df.columns), 3)\n",
    "            }\n",
    "\n",
    "    # Sort dictionary by missing_pct descending\n",
    "    sorted_missing = dict(sorted(row_missing.items(), key=lambda x: x[1]['missing_pct'], reverse=True))\n",
    "\n",
    "    # Get list of row indices to drop\n",
    "    to_drop = [idx for idx, info in sorted_missing.items() if info['missing_pct'] > threshold]\n",
    "\n",
    "    return sorted_missing, to_drop\n",
    "\n",
    "# === Adjustable thresholds (percentage of missing values) ===\n",
    "track_missing_thresh = 0.3\n",
    "artist_missing_thresh = 0.5\n",
    "\n",
    "# === Tracks ===\n",
    "print(\"\\n--- TRACKS ---\")\n",
    "track_missing_dict, tracks_to_drop = get_missing_info(tracks_df, track_missing_thresh)\n",
    "\n",
    "# Preview top 5 rows with most missing fields\n",
    "print(\"Top 5 rows with most missing fields (tracks):\")\n",
    "for i, (idx, info) in enumerate(track_missing_dict.items()):\n",
    "    print(f\"Row {idx}: {info}\")\n",
    "    if i == 4:\n",
    "        break\n",
    "\n",
    "print(f\"\\nTracks rows with more than {track_missing_thresh} missing fields: {len(tracks_to_drop)}\")\n",
    "\n",
    "# === Artists ===\n",
    "print(\"\\n--- ARTISTS ---\")\n",
    "artist_missing_dict, artists_to_drop = get_missing_info(artists_df, artist_missing_thresh)\n",
    "\n",
    "print(\"Top 5 rows with most missing fields (artists):\")\n",
    "for i, (idx, info) in enumerate(artist_missing_dict.items()):\n",
    "    print(f\"Row {idx}: {info}\")\n",
    "    if i == 4:\n",
    "        break\n",
    "\n",
    "print(f\"\\nArtist rows with more than {artist_missing_thresh} missing fields: {len(artists_to_drop)}\")\n"
   ]
  },
  {
   "cell_type": "code",
   "execution_count": 30,
   "id": "57766fad",
   "metadata": {},
   "outputs": [
    {
     "name": "stdout",
     "output_type": "stream",
     "text": [
      "\n",
      "Number of tracks associated with the artists that would be deleted: 2578\n"
     ]
    }
   ],
   "source": [
    "# Step 1: Get artist IDs to be dropped\n",
    "artist_ids_to_drop = artists_df.loc[artists_to_drop, 'id_author'].dropna().unique()\n",
    "\n",
    "# Step 2: Count how many tracks are by those artists\n",
    "tracks_by_dropped_artists = tracks_df[tracks_df['id_artist'].isin(artist_ids_to_drop)]\n",
    "n_tracks_to_drop_due_to_artists = len(tracks_by_dropped_artists)\n",
    "\n",
    "print(f\"\\nNumber of tracks associated with the artists that would be deleted: {n_tracks_to_drop_due_to_artists}\")\n"
   ]
  }
 ],
 "metadata": {
  "kernelspec": {
   "display_name": "Python 3",
   "language": "python",
   "name": "python3"
  },
  "language_info": {
   "codemirror_mode": {
    "name": "ipython",
    "version": 3
   },
   "file_extension": ".py",
   "mimetype": "text/x-python",
   "name": "python",
   "nbconvert_exporter": "python",
   "pygments_lexer": "ipython3",
   "version": "3.12.6"
  }
 },
 "nbformat": 4,
 "nbformat_minor": 5
}
