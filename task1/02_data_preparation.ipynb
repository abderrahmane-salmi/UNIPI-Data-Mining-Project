{
 "cells": [
  {
   "cell_type": "markdown",
   "id": "f6d92a24",
   "metadata": {},
   "source": [
    "# Data Preparation"
   ]
  },
  {
   "cell_type": "markdown",
   "id": "c6329b3a",
   "metadata": {},
   "source": [
    "**Authors:** Abderrahmane Salmi, Ricardo Talarico, Lorenzo Allegrini"
   ]
  },
  {
   "cell_type": "code",
   "execution_count": null,
   "id": "c74c10f6",
   "metadata": {
    "vscode": {
     "languageId": "plaintext"
    }
   },
   "outputs": [],
   "source": [
    "import numpy as np\n",
    "import pandas as pd\n",
    "import math\n",
    "import seaborn as sns\n",
    "import matplotlib.pyplot as plt"
   ]
  },
  {
   "cell_type": "code",
   "execution_count": null,
   "id": "f753e491",
   "metadata": {
    "vscode": {
     "languageId": "plaintext"
    }
   },
   "outputs": [],
   "source": [
    "tracks_df = pd.read_csv(\"datasets/tracks_cleaned.csv\")\n",
    "artistis_df = pd.read_csv(\"datasets/artists_cleaned.csv\", sep=';')"
   ]
  },
  {
   "cell_type": "markdown",
   "id": "d541be34",
   "metadata": {},
   "source": [
    "### Features Created\n",
    "- swear_ratio: fraction of words in the songs that are swear words\n",
    "- aggressiveness: measure of the aggressiveness of the song. Computed based on swear_ratio and musical features like bpm, loudness and flux.\n",
    "- relative_popularity: ranking of the popularity of the song out of all the songs of the artist\n",
    "- starting_age: the age at which the artist started making music"
   ]
  },
  {
   "cell_type": "code",
   "execution_count": null,
   "id": "7b7b2093",
   "metadata": {
    "vscode": {
     "languageId": "plaintext"
    }
   },
   "outputs": [],
   "source": [
    "tracks_df['swear_ratio'] = (tracks_df['swear_IT'] + tracks_df['swear_EN']) / tracks_df['n_tokens']\n",
    "\n",
    "\n",
    "from sklearn.preprocessing import StandardScaler\n",
    "\n",
    "features_for_angriness = ['bpm','centroid','flux','rolloff','loudness','swear_ratio']\n",
    "\n",
    "scaler = StandardScaler()\n",
    "scaled_features = scaler.fit_transform(tracks_df[features_for_angriness])\n",
    "scaled_features = pd.DataFrame(scaled_features, columns=features_for_angriness)\n",
    "\n",
    "\n",
    "tracks_df['aggressiveness'] = (\n",
    "    (1/6)*scaled_features['centroid']+\n",
    "    (1/6)*scaled_features['bpm']+\n",
    "    (1/6)*scaled_features['flux']+\n",
    "    (1/6)*scaled_features['swear_ratio']+\n",
    "    (1/6)*scaled_features['loudness']+\n",
    "    (1/6)*scaled_features['rolloff']\n",
    ")\n",
    "# starting age TODO: check if the code works\n",
    "artists_df['starting_age'] = math.floor((artists_df['active_start'] - artists_df['birth_date']).days / 365)\n",
    "\n",
    "# relative popularity\n",
    "tracks_df['relative_popularity'] = (\n",
    "    tracks_df\n",
    "    .groupby('name_artist')['popularity']\n",
    "    .rank(ascending=False, method='dense')\n",
    ")\n"
   ]
  }
 ],
 "metadata": {
  "language_info": {
   "name": "python"
  }
 },
 "nbformat": 4,
 "nbformat_minor": 5
}
